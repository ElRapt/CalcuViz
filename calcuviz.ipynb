{
 "cells": [
  {
   "cell_type": "markdown",
   "metadata": {},
   "source": [
    "# CalcuViz: Interactive Calculus with Python"
   ]
  },
  {
   "cell_type": "markdown",
   "metadata": {},
   "source": [
    "## Import required libraries"
   ]
  },
  {
   "cell_type": "code",
   "execution_count": 1,
   "metadata": {},
   "outputs": [],
   "source": [
    "import numpy as np\n",
    "import matplotlib.pyplot as plt\n",
    "from ipywidgets import widgets\n",
    "from IPython.display import display, clear_output\n"
   ]
  },
  {
   "cell_type": "code",
   "execution_count": 20,
   "metadata": {},
   "outputs": [
    {
     "data": {
      "application/vnd.jupyter.widget-view+json": {
       "model_id": "64e7b06b84a24253ab4ec0db597cd32c",
       "version_major": 2,
       "version_minor": 0
      },
      "text/plain": [
       "Text(value='x**2', description='Function:', placeholder='Enter your function in terms of x')"
      ]
     },
     "metadata": {},
     "output_type": "display_data"
    },
    {
     "data": {
      "application/vnd.jupyter.widget-view+json": {
       "model_id": "e5a20b24c41a4f679eb32110b3cffc26",
       "version_major": 2,
       "version_minor": 0
      },
      "text/plain": [
       "FloatText(value=-10.0, description='X Start:')"
      ]
     },
     "metadata": {},
     "output_type": "display_data"
    },
    {
     "data": {
      "application/vnd.jupyter.widget-view+json": {
       "model_id": "e874947e797e41a4ac1fb23fb17f65fc",
       "version_major": 2,
       "version_minor": 0
      },
      "text/plain": [
       "FloatText(value=10.0, description='X End:')"
      ]
     },
     "metadata": {},
     "output_type": "display_data"
    },
    {
     "data": {
      "application/vnd.jupyter.widget-view+json": {
       "model_id": "99ee6df065364aa39a13cb9e7bea6eec",
       "version_major": 2,
       "version_minor": 0
      },
      "text/plain": [
       "FloatText(value=-10.0, description='Y Start:')"
      ]
     },
     "metadata": {},
     "output_type": "display_data"
    },
    {
     "data": {
      "application/vnd.jupyter.widget-view+json": {
       "model_id": "a2ffeb5a38bb49158429ce47a319b98e",
       "version_major": 2,
       "version_minor": 0
      },
      "text/plain": [
       "FloatText(value=10.0, description='Y End:')"
      ]
     },
     "metadata": {},
     "output_type": "display_data"
    },
    {
     "data": {
      "application/vnd.jupyter.widget-view+json": {
       "model_id": "215f045a56704d9cb23ead79fed18276",
       "version_major": 2,
       "version_minor": 0
      },
      "text/plain": [
       "Button(description='Plot Function', style=ButtonStyle())"
      ]
     },
     "metadata": {},
     "output_type": "display_data"
    },
    {
     "data": {
      "application/vnd.jupyter.widget-view+json": {
       "model_id": "df52a6cdb4ea4002a2dbd038269d8d70",
       "version_major": 2,
       "version_minor": 0
      },
      "text/plain": [
       "Output()"
      ]
     },
     "metadata": {},
     "output_type": "display_data"
    }
   ],
   "source": [
    "# Create a text input field for the function\n",
    "func_input = widgets.Text(\n",
    "    value='x**2',\n",
    "    placeholder='Enter your function in terms of x',\n",
    "    description='Function:',\n",
    "    disabled=False\n",
    ")\n",
    "\n",
    "# Button to trigger plotting\n",
    "plot_button = widgets.Button(\n",
    "    description='Plot Function'\n",
    ")\n",
    "\n",
    "\n",
    "\n",
    "x_start = widgets.FloatText(\n",
    "    value=-10,\n",
    "    description='X Start:',\n",
    ")\n",
    "x_end = widgets.FloatText(\n",
    "    value=10,\n",
    "    description='X End:',\n",
    ")\n",
    "\n",
    "y_start = widgets.FloatText(\n",
    "    value=-10,\n",
    "    description='Y Start:',\n",
    ")\n",
    "y_end = widgets.FloatText(\n",
    "    value=10,\n",
    "    description='Y End:',\n",
    ")\n",
    "\n",
    "# Output widget to display the plot\n",
    "output = widgets.Output()\n",
    "\n",
    "# Modify the button event handler to include the new text inputs\n",
    "def on_button_click(b):\n",
    "    output.clear_output(wait=True)  # Clear the output first\n",
    "    with output:\n",
    "        x_range = (x_start.value, x_end.value)\n",
    "        y_range = (y_start.value, y_end.value)\n",
    "        plot_function(func_input.value, x_range=x_range, y_range=y_range)\n",
    "\n",
    "\n",
    "plot_button.on_click(on_button_click)\n",
    "\n",
    "\n",
    "# Update the widget display to include the new text inputs\n",
    "display(func_input, x_start, x_end, y_start, y_end, plot_button, output)\n"
   ]
  },
  {
   "cell_type": "code",
   "execution_count": 15,
   "metadata": {},
   "outputs": [],
   "source": [
    "def plot_function(func_str, x_range=(-10, 10), y_range=(-10, 10)):\n",
    "    x_vals = np.linspace(x_range[0], x_range[1], 400)\n",
    "    y_vals = [eval(func_str, {\"x\": val}) for val in x_vals]\n",
    "\n",
    "    plt.plot(x_vals, y_vals, label=func_str)\n",
    "    plt.ylim(y_range)  # Set the y-axis limits\n",
    "    plt.legend()\n",
    "    plt.grid(True)\n",
    "    plt.xlabel('x')\n",
    "    plt.ylabel('y')\n",
    "    plt.title('Function Plot')\n",
    "    plt.show()\n"
   ]
  }
 ],
 "metadata": {
  "kernelspec": {
   "display_name": "venv",
   "language": "python",
   "name": "python3"
  },
  "language_info": {
   "codemirror_mode": {
    "name": "ipython",
    "version": 3
   },
   "file_extension": ".py",
   "mimetype": "text/x-python",
   "name": "python",
   "nbconvert_exporter": "python",
   "pygments_lexer": "ipython3",
   "version": "3.11.4"
  },
  "orig_nbformat": 4
 },
 "nbformat": 4,
 "nbformat_minor": 2
}

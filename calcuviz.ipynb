{
 "cells": [
  {
   "cell_type": "markdown",
   "metadata": {},
   "source": [
    "# CalcuViz: Interactive Calculus with Python"
   ]
  },
  {
   "cell_type": "markdown",
   "metadata": {},
   "source": [
    "## Import required libraries"
   ]
  },
  {
   "cell_type": "code",
   "execution_count": 1,
   "metadata": {},
   "outputs": [],
   "source": [
    "import numpy as np\n",
    "import sympy as sp\n",
    "import matplotlib.pyplot as plt\n",
    "from ipywidgets import widgets\n",
    "from IPython.display import display, clear_output\n"
   ]
  },
  {
   "cell_type": "code",
   "execution_count": 2,
   "metadata": {},
   "outputs": [
    {
     "data": {
      "application/vnd.jupyter.widget-view+json": {
       "model_id": "7c6e8c32a32842c492b2818272c87774",
       "version_major": 2,
       "version_minor": 0
      },
      "text/plain": [
       "Text(value='x**2', description='Function:', placeholder='Enter your function in terms of x')"
      ]
     },
     "metadata": {},
     "output_type": "display_data"
    },
    {
     "data": {
      "application/vnd.jupyter.widget-view+json": {
       "model_id": "cdeacf036b31453ea24158d6f36180d4",
       "version_major": 2,
       "version_minor": 0
      },
      "text/plain": [
       "FloatText(value=-10.0, description='X Start:')"
      ]
     },
     "metadata": {},
     "output_type": "display_data"
    },
    {
     "data": {
      "application/vnd.jupyter.widget-view+json": {
       "model_id": "e146cb2f06bc4b2fa18e1d4604848458",
       "version_major": 2,
       "version_minor": 0
      },
      "text/plain": [
       "FloatText(value=10.0, description='X End:')"
      ]
     },
     "metadata": {},
     "output_type": "display_data"
    },
    {
     "data": {
      "application/vnd.jupyter.widget-view+json": {
       "model_id": "6fc74b32395d4e239a9eaaf6b00276a6",
       "version_major": 2,
       "version_minor": 0
      },
      "text/plain": [
       "FloatText(value=-10.0, description='Y Start:')"
      ]
     },
     "metadata": {},
     "output_type": "display_data"
    },
    {
     "data": {
      "application/vnd.jupyter.widget-view+json": {
       "model_id": "78331e46a3bf46d68b41aefdb763630d",
       "version_major": 2,
       "version_minor": 0
      },
      "text/plain": [
       "FloatText(value=10.0, description='Y End:')"
      ]
     },
     "metadata": {},
     "output_type": "display_data"
    },
    {
     "data": {
      "application/vnd.jupyter.widget-view+json": {
       "model_id": "100da2335d234fecb8a0ffdccadbc8a1",
       "version_major": 2,
       "version_minor": 0
      },
      "text/plain": [
       "Button(description='Plot Function', style=ButtonStyle())"
      ]
     },
     "metadata": {},
     "output_type": "display_data"
    },
    {
     "data": {
      "application/vnd.jupyter.widget-view+json": {
       "model_id": "5ebbf2ef118e43648f894ea7c8936854",
       "version_major": 2,
       "version_minor": 0
      },
      "text/plain": [
       "Output()"
      ]
     },
     "metadata": {},
     "output_type": "display_data"
    }
   ],
   "source": [
    "# Create a text input field for the function\n",
    "func_input = widgets.Text(\n",
    "    value='x**2',\n",
    "    placeholder='Enter your function in terms of x',\n",
    "    description='Function:',\n",
    "    disabled=False\n",
    ")\n",
    "\n",
    "# Button to trigger plotting\n",
    "plot_button = widgets.Button(\n",
    "    description='Plot Function'\n",
    ")\n",
    "\n",
    "\n",
    "\n",
    "x_start = widgets.FloatText(\n",
    "    value=-10,\n",
    "    description='X Start:',\n",
    ")\n",
    "x_end = widgets.FloatText(\n",
    "    value=10,\n",
    "    description='X End:',\n",
    ")\n",
    "\n",
    "y_start = widgets.FloatText(\n",
    "    value=-10,\n",
    "    description='Y Start:',\n",
    ")\n",
    "y_end = widgets.FloatText(\n",
    "    value=10,\n",
    "    description='Y End:',\n",
    ")\n",
    "\n",
    "# Output widget to display the plot\n",
    "output = widgets.Output()\n",
    "\n",
    "# Modify the button event handler to include the new text inputs\n",
    "def on_button_click(b):\n",
    "    func_str = func_input.value\n",
    "    output.clear_output(wait=True)  # Clear the output first\n",
    "    with output:\n",
    "        x_range = (x_start.value, x_end.value)\n",
    "        y_range = (y_start.value, y_end.value)\n",
    "        plot_function_and_derivative(func_str, x_range=x_range, y_range=y_range)\n",
    "\n",
    "\n",
    "plot_button.on_click(on_button_click)\n",
    "\n",
    "\n",
    "# Update the widget display to include the new text inputs\n",
    "display(func_input, x_start, x_end, y_start, y_end, plot_button, output)\n"
   ]
  },
  {
   "cell_type": "code",
   "execution_count": 3,
   "metadata": {},
   "outputs": [],
   "source": [
    "def compute_derivative(func_str):\n",
    "    x = sp.symbols('x')\n",
    "    func = sp.sympify(func_str)\n",
    "    derivative = sp.diff(func, x)\n",
    "    return derivative\n",
    "\n",
    "\n",
    "def plot_function_and_derivative(func_str, x_range=(-10, 10), y_range=(-10, 10)):\n",
    "    x_vals = np.linspace(x_range[0], x_range[1], 400)\n",
    "    func = lambda x: eval(func_str, {\"x\": x})\n",
    "\n",
    "    # Calculate original function values\n",
    "    y_vals = [func(x_val) for x_val in x_vals]\n",
    "\n",
    "    # Calculate derivative values\n",
    "    derivative_str = str(compute_derivative(func_str))\n",
    "    derivative_func = lambda x: eval(derivative_str, {\"x\": x})\n",
    "    y_vals_derivative = [derivative_func(x_val) for x_val in x_vals]\n",
    "\n",
    "    # Plotting\n",
    "    plt.figure(figsize=(10,6))\n",
    "    plt.plot(x_vals, y_vals, label=f'f(x) = {func_str}')\n",
    "    plt.plot(x_vals, y_vals_derivative, '--', label=f'f\\'(x) = {derivative_str}')\n",
    "    plt.ylim(y_range)  \n",
    "    plt.legend()\n",
    "    plt.grid(True)\n",
    "    plt.xlabel('x')\n",
    "    plt.ylabel('y')\n",
    "    plt.title('Function and its Derivative')\n",
    "    plt.show()\n",
    "\n"
   ]
  }
 ],
 "metadata": {
  "kernelspec": {
   "display_name": "venv",
   "language": "python",
   "name": "python3"
  },
  "language_info": {
   "codemirror_mode": {
    "name": "ipython",
    "version": 3
   },
   "file_extension": ".py",
   "mimetype": "text/x-python",
   "name": "python",
   "nbconvert_exporter": "python",
   "pygments_lexer": "ipython3",
   "version": "3.11.4"
  },
  "orig_nbformat": 4
 },
 "nbformat": 4,
 "nbformat_minor": 2
}
